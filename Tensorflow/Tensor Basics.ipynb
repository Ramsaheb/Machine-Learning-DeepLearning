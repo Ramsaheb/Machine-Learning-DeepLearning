{
 "cells": [
  {
   "cell_type": "code",
   "execution_count": 1,
   "id": "4ad23dde-01ad-4e59-82de-0788b2f42938",
   "metadata": {},
   "outputs": [],
   "source": [
    "import tensorflow as tf"
   ]
  },
  {
   "cell_type": "code",
   "execution_count": 13,
   "id": "a8aeb78e-d770-4481-ab2b-1b4c99b8b550",
   "metadata": {},
   "outputs": [
    {
     "data": {
      "text/plain": [
       "<tf.Tensor: shape=(3, 3), dtype=float32, numpy=\n",
       "array([[1., 0., 0.],\n",
       "       [0., 1., 0.],\n",
       "       [0., 0., 1.]], dtype=float32)>"
      ]
     },
     "execution_count": 13,
     "metadata": {},
     "output_type": "execute_result"
    }
   ],
   "source": [
    "x = tf.constant(4, shape=(1, 2), dtype=tf.float32)\n",
    "x = tf.constant([[1, 3, 4], [2, 3, 4]])\n",
    "x = tf.ones((3, 3))\n",
    "x = tf.zeros((2, 2))\n",
    "x = tf.eye(3)\n",
    "x"
   ]
  },
  {
   "cell_type": "code",
   "execution_count": 17,
   "id": "1ea0b572-b20d-4447-ba3a-9f558d2ff455",
   "metadata": {},
   "outputs": [
    {
     "data": {
      "text/plain": [
       "<tf.Tensor: shape=(5,), dtype=int32, numpy=array([1, 3, 5, 7, 9])>"
      ]
     },
     "execution_count": 17,
     "metadata": {},
     "output_type": "execute_result"
    }
   ],
   "source": [
    "x = tf.random.normal((3, 3), mean=0, stddev=1)\n",
    "x = tf.random.uniform((1, 3), minval=0, maxval=1)\n",
    "x = tf.range(start=1, limit=10, delta=2)\n",
    "x"
   ]
  },
  {
   "cell_type": "code",
   "execution_count": 28,
   "id": "cba410df-51d0-4d33-82f8-3a3e1546c577",
   "metadata": {},
   "outputs": [
    {
     "data": {
      "text/plain": [
       "<tf.Tensor: shape=(2, 4), dtype=float32, numpy=\n",
       "array([[-1.8622005 , -5.88496   , -1.1009535 , -2.060773  ],\n",
       "       [-0.5296087 , -0.8453227 , -0.07225274, -0.5379475 ]],\n",
       "      dtype=float32)>"
      ]
     },
     "execution_count": 28,
     "metadata": {},
     "output_type": "execute_result"
    }
   ],
   "source": [
    "a = tf.constant([1, 2, 3])\n",
    "b = tf.constant([1, 2, 3])\n",
    "c = tf.add(a, b)\n",
    "c = a + b #other similar -, /, x\n",
    "\n",
    "c = tf.tensordot(a, b, axes=1)\n",
    "c = tf.reduce_sum(a+b, axis=0)\n",
    "\n",
    "c = a ** 10\n",
    "\n",
    "a = tf.random.normal((2, 3))\n",
    "b = tf.random.normal((3, 4))\n",
    "c = tf.matmul(a, b)\n",
    "c = a @ b\n",
    "c"
   ]
  },
  {
   "cell_type": "code",
   "execution_count": 37,
   "id": "ff7e53ae-8af9-404d-9aaf-26b82c8ebaf4",
   "metadata": {},
   "outputs": [
    {
     "data": {
      "text/plain": [
       "<tf.Tensor: shape=(2,), dtype=int32, numpy=array([1, 3])>"
      ]
     },
     "execution_count": 37,
     "metadata": {},
     "output_type": "execute_result"
    }
   ],
   "source": [
    "x = tf.constant([1 ,2, 3, 4, 5, 6, 7, 8])\n",
    "# x[:]\n",
    "# x[1:]\n",
    "# x[1:3]\n",
    "# x[0:]\n",
    "# x[:5]\n",
    "# x[0::2]\n",
    "\n",
    "indices = tf.constant([2, 7])\n",
    "get_indices = tf.gather(x, indices)\n",
    "get_indices\n",
    "\n",
    "x = tf.constant([[1, 3],\n",
    "                 [2, 4],\n",
    "                 [3, 4]])\n",
    "x[0, : ]"
   ]
  },
  {
   "cell_type": "code",
   "execution_count": 40,
   "id": "c5aa801c-db5d-4758-bf63-8b4e1c1f160e",
   "metadata": {},
   "outputs": [
    {
     "data": {
      "text/plain": [
       "<tf.Tensor: shape=(3, 3), dtype=int32, numpy=\n",
       "array([[0, 1, 2],\n",
       "       [3, 4, 5],\n",
       "       [6, 7, 8]])>"
      ]
     },
     "execution_count": 40,
     "metadata": {},
     "output_type": "execute_result"
    }
   ],
   "source": [
    "x = tf.range(9)\n",
    "x\n",
    "x = tf.reshape(x, (3, 3))\n",
    "x\n",
    "x = tf.transpose(x, perm=[1, ])"
   ]
  },
  {
   "cell_type": "code",
   "execution_count": null,
   "id": "cb24fa2f-de8c-4fdf-98ae-83ebad2885b4",
   "metadata": {},
   "outputs": [],
   "source": []
  }
 ],
 "metadata": {
  "kernelspec": {
   "display_name": "Python 3 (ipykernel)",
   "language": "python",
   "name": "python3"
  },
  "language_info": {
   "codemirror_mode": {
    "name": "ipython",
    "version": 3
   },
   "file_extension": ".py",
   "mimetype": "text/x-python",
   "name": "python",
   "nbconvert_exporter": "python",
   "pygments_lexer": "ipython3",
   "version": "3.10.13"
  }
 },
 "nbformat": 4,
 "nbformat_minor": 5
}
